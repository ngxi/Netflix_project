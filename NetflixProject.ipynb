{
 "cells": [
  {
   "cell_type": "code",
   "execution_count": 25,
   "id": "52c96e0d-acda-4676-998e-0052cdb4e642",
   "metadata": {},
   "outputs": [],
   "source": [
    "import pandas as pd\n",
    "import matplotlib.pyplot as plt"
   ]
  },
  {
   "cell_type": "code",
   "execution_count": 26,
   "id": "388cdd2b-f43f-4829-8d9e-5bee905b4ec5",
   "metadata": {},
   "outputs": [],
   "source": [
    "import pandas as pd"
   ]
  },
  {
   "cell_type": "code",
   "execution_count": 27,
   "id": "34a378f4-99a4-4467-bad0-13e6276bd60e",
   "metadata": {},
   "outputs": [],
   "source": [
    "import matplotlib.pyplot as plt"
   ]
  },
  {
   "cell_type": "code",
   "execution_count": 28,
   "id": "6c6d408c-67d4-481b-8180-442e4da91f45",
   "metadata": {},
   "outputs": [],
   "source": [
    "df = pd.read_csv(\"netflix_data.csv\")\n"
   ]
  },
  {
   "cell_type": "code",
   "execution_count": 29,
   "id": "61c6c446-9772-4968-b951-789ed23d6092",
   "metadata": {},
   "outputs": [
    {
     "name": "stdout",
     "output_type": "stream",
     "text": [
      "  show_id     type  title           director  \\\n",
      "0      s2    Movie   7:19  Jorge Michel Grau   \n",
      "1      s3    Movie  23:59       Gilbert Chan   \n",
      "2      s4    Movie      9        Shane Acker   \n",
      "3      s5    Movie     21     Robert Luketic   \n",
      "4      s6  TV Show     46        Serdar Akar   \n",
      "\n",
      "                                                cast        country  \\\n",
      "0  Demián Bichir, Héctor Bonilla, Oscar Serrano, ...         Mexico   \n",
      "1  Tedd Chan, Stella Chung, Henley Hii, Lawrence ...      Singapore   \n",
      "2  Elijah Wood, John C. Reilly, Jennifer Connelly...  United States   \n",
      "3  Jim Sturgess, Kevin Spacey, Kate Bosworth, Aar...  United States   \n",
      "4  Erdal Beşikçioğlu, Yasemin Allen, Melis Birkan...         Turkey   \n",
      "\n",
      "          date_added  release_year  duration  \\\n",
      "0  December 23, 2016          2016        93   \n",
      "1  December 20, 2018          2011        78   \n",
      "2  November 16, 2017          2009        80   \n",
      "3    January 1, 2020          2008       123   \n",
      "4       July 1, 2017          2016         1   \n",
      "\n",
      "                                         description             genre  \n",
      "0  After a devastating earthquake hits Mexico Cit...            Dramas  \n",
      "1  When an army recruit is found dead, his fellow...     Horror Movies  \n",
      "2  In a postapocalyptic world, rag-doll robots hi...            Action  \n",
      "3  A brilliant group of students become card-coun...            Dramas  \n",
      "4  A genetics professor experiments with a treatm...  International TV  \n"
     ]
    }
   ],
   "source": [
    "print(df.head())\n"
   ]
  },
  {
   "cell_type": "code",
   "execution_count": 30,
   "id": "23a251af-f3e0-459a-a1a7-49e51936848d",
   "metadata": {},
   "outputs": [
    {
     "name": "stdout",
     "output_type": "stream",
     "text": [
      "<class 'pandas.core.frame.DataFrame'>\n",
      "RangeIndex: 4812 entries, 0 to 4811\n",
      "Data columns (total 11 columns):\n",
      " #   Column        Non-Null Count  Dtype \n",
      "---  ------        --------------  ----- \n",
      " 0   show_id       4812 non-null   object\n",
      " 1   type          4812 non-null   object\n",
      " 2   title         4812 non-null   object\n",
      " 3   director      4812 non-null   object\n",
      " 4   cast          4812 non-null   object\n",
      " 5   country       4812 non-null   object\n",
      " 6   date_added    4812 non-null   object\n",
      " 7   release_year  4812 non-null   int64 \n",
      " 8   duration      4812 non-null   int64 \n",
      " 9   description   4812 non-null   object\n",
      " 10  genre         4812 non-null   object\n",
      "dtypes: int64(2), object(9)\n",
      "memory usage: 413.7+ KB\n"
     ]
    }
   ],
   "source": [
    "df.info()\n"
   ]
  },
  {
   "cell_type": "code",
   "execution_count": 31,
   "id": "1c730ac0-17f2-47b7-a5ef-453092cbfece",
   "metadata": {},
   "outputs": [
    {
     "name": "stdout",
     "output_type": "stream",
     "text": [
      "<class 'pandas.core.frame.DataFrame'>\n",
      "RangeIndex: 4812 entries, 0 to 4811\n",
      "Data columns (total 11 columns):\n",
      " #   Column        Non-Null Count  Dtype \n",
      "---  ------        --------------  ----- \n",
      " 0   show_id       4812 non-null   object\n",
      " 1   type          4812 non-null   object\n",
      " 2   title         4812 non-null   object\n",
      " 3   director      4812 non-null   object\n",
      " 4   cast          4812 non-null   object\n",
      " 5   country       4812 non-null   object\n",
      " 6   date_added    4812 non-null   object\n",
      " 7   release_year  4812 non-null   int64 \n",
      " 8   duration      4812 non-null   int64 \n",
      " 9   description   4812 non-null   object\n",
      " 10  genre         4812 non-null   object\n",
      "dtypes: int64(2), object(9)\n",
      "memory usage: 413.7+ KB\n"
     ]
    }
   ],
   "source": [
    "df.info()\n"
   ]
  },
  {
   "cell_type": "code",
   "execution_count": 32,
   "id": "e4b2eb0b-6d6e-4afe-8b2f-61ce241f4da3",
   "metadata": {},
   "outputs": [
    {
     "name": "stdout",
     "output_type": "stream",
     "text": [
      "     show_id     type       title           director  \\\n",
      "0         s2    Movie        7:19  Jorge Michel Grau   \n",
      "1         s3    Movie       23:59       Gilbert Chan   \n",
      "2         s4    Movie           9        Shane Acker   \n",
      "3         s5    Movie          21     Robert Luketic   \n",
      "4         s6  TV Show          46        Serdar Akar   \n",
      "...      ...      ...         ...                ...   \n",
      "4807   s7779    Movie  Zombieland    Ruben Fleischer   \n",
      "4808   s7781    Movie         Zoo       Shlok Sharma   \n",
      "4809   s7782    Movie        Zoom       Peter Hewitt   \n",
      "4810   s7783    Movie        Zozo        Josef Fares   \n",
      "4811   s7784    Movie      Zubaan        Mozez Singh   \n",
      "\n",
      "                                                   cast        country  \\\n",
      "0     Demián Bichir, Héctor Bonilla, Oscar Serrano, ...         Mexico   \n",
      "1     Tedd Chan, Stella Chung, Henley Hii, Lawrence ...      Singapore   \n",
      "2     Elijah Wood, John C. Reilly, Jennifer Connelly...  United States   \n",
      "3     Jim Sturgess, Kevin Spacey, Kate Bosworth, Aar...  United States   \n",
      "4     Erdal Beşikçioğlu, Yasemin Allen, Melis Birkan...         Turkey   \n",
      "...                                                 ...            ...   \n",
      "4807  Jesse Eisenberg, Woody Harrelson, Emma Stone, ...  United States   \n",
      "4808  Shashank Arora, Shweta Tripathi, Rahul Kumar, ...          India   \n",
      "4809  Tim Allen, Courteney Cox, Chevy Chase, Kate Ma...  United States   \n",
      "4810  Imad Creidi, Antoinette Turk, Elias Gergi, Car...         Sweden   \n",
      "4811  Vicky Kaushal, Sarah-Jane Dias, Raaghav Chanan...          India   \n",
      "\n",
      "             date_added  release_year  duration  \\\n",
      "0     December 23, 2016          2016        93   \n",
      "1     December 20, 2018          2011        78   \n",
      "2     November 16, 2017          2009        80   \n",
      "3       January 1, 2020          2008       123   \n",
      "4          July 1, 2017          2016         1   \n",
      "...                 ...           ...       ...   \n",
      "4807   November 1, 2019          2009        88   \n",
      "4808       July 1, 2018          2018        94   \n",
      "4809   January 11, 2020          2006        88   \n",
      "4810   October 19, 2020          2005        99   \n",
      "4811      March 2, 2019          2015       111   \n",
      "\n",
      "                                            description             genre  \n",
      "0     After a devastating earthquake hits Mexico Cit...            Dramas  \n",
      "1     When an army recruit is found dead, his fellow...     Horror Movies  \n",
      "2     In a postapocalyptic world, rag-doll robots hi...            Action  \n",
      "3     A brilliant group of students become card-coun...            Dramas  \n",
      "4     A genetics professor experiments with a treatm...  International TV  \n",
      "...                                                 ...               ...  \n",
      "4807  Looking to survive in a world taken over by zo...          Comedies  \n",
      "4808  A drug dealer starts having doubts about his t...            Dramas  \n",
      "4809  Dragged from civilian life, a former superhero...          Children  \n",
      "4810  When Lebanon's Civil War deprives Zozo of his ...            Dramas  \n",
      "4811  A scrappy but poor boy worms his way into a ty...            Dramas  \n",
      "\n",
      "[4812 rows x 11 columns]\n"
     ]
    }
   ],
   "source": [
    "print(df)"
   ]
  },
  {
   "cell_type": "code",
   "execution_count": 33,
   "id": "fa122702-1b67-48c4-b133-70b2154107ea",
   "metadata": {},
   "outputs": [
    {
     "name": "stdout",
     "output_type": "stream",
     "text": [
      "  show_id     type  title           director  \\\n",
      "0      s2    Movie   7:19  Jorge Michel Grau   \n",
      "1      s3    Movie  23:59       Gilbert Chan   \n",
      "2      s4    Movie      9        Shane Acker   \n",
      "3      s5    Movie     21     Robert Luketic   \n",
      "4      s6  TV Show     46        Serdar Akar   \n",
      "\n",
      "                                                cast        country  \\\n",
      "0  Demián Bichir, Héctor Bonilla, Oscar Serrano, ...         Mexico   \n",
      "1  Tedd Chan, Stella Chung, Henley Hii, Lawrence ...      Singapore   \n",
      "2  Elijah Wood, John C. Reilly, Jennifer Connelly...  United States   \n",
      "3  Jim Sturgess, Kevin Spacey, Kate Bosworth, Aar...  United States   \n",
      "4  Erdal Beşikçioğlu, Yasemin Allen, Melis Birkan...         Turkey   \n",
      "\n",
      "          date_added  release_year  duration  \\\n",
      "0  December 23, 2016          2016        93   \n",
      "1  December 20, 2018          2011        78   \n",
      "2  November 16, 2017          2009        80   \n",
      "3    January 1, 2020          2008       123   \n",
      "4       July 1, 2017          2016         1   \n",
      "\n",
      "                                         description             genre  \n",
      "0  After a devastating earthquake hits Mexico Cit...            Dramas  \n",
      "1  When an army recruit is found dead, his fellow...     Horror Movies  \n",
      "2  In a postapocalyptic world, rag-doll robots hi...            Action  \n",
      "3  A brilliant group of students become card-coun...            Dramas  \n",
      "4  A genetics professor experiments with a treatm...  International TV  \n"
     ]
    }
   ],
   "source": []
  },
  {
   "cell_type": "code",
   "execution_count": 34,
   "id": "403fa7f8-8a69-47d2-ab1a-43714553869c",
   "metadata": {},
   "outputs": [],
   "source": [
    "# Subsetting the data frame to isolate movies released in the 90s"
   ]
  },
  {
   "cell_type": "code",
   "execution_count": 35,
   "id": "c43af42d-959f-4fa9-b609-b1dfdfaec957",
   "metadata": {},
   "outputs": [
    {
     "data": {
      "text/plain": [
       "release_year\n",
       "1997    26\n",
       "1998    26\n",
       "1999    26\n",
       "1993    16\n",
       "1995    16\n",
       "1992    16\n",
       "1990    15\n",
       "1996    15\n",
       "1994    14\n",
       "1991    14\n",
       "Name: count, dtype: int64"
      ]
     },
     "execution_count": 35,
     "metadata": {},
     "output_type": "execute_result"
    }
   ],
   "source": [
    "subset = df[\"release_year\"].between(1990,1999)\n",
    "df = df[subset]\n",
    "df[\"release_year\"].value_counts()"
   ]
  },
  {
   "cell_type": "code",
   "execution_count": 36,
   "id": "fda50b65-990c-414d-9050-30041b4b6cfd",
   "metadata": {},
   "outputs": [
    {
     "data": {
      "text/plain": [
       "6       119\n",
       "118     101\n",
       "145      82\n",
       "167     108\n",
       "194     154\n",
       "       ... \n",
       "4672    106\n",
       "4689    118\n",
       "4718    106\n",
       "4746    191\n",
       "4756    148\n",
       "Name: duration, Length: 184, dtype: int64"
      ]
     },
     "execution_count": 36,
     "metadata": {},
     "output_type": "execute_result"
    }
   ],
   "source": [
    "df[\"duration\"]"
   ]
  },
  {
   "cell_type": "code",
   "execution_count": 37,
   "id": "fb4d0fd7-f841-44ec-9236-96b585c45374",
   "metadata": {},
   "outputs": [
    {
     "data": {
      "text/plain": [
       "duration\n",
       "94     7\n",
       "101    6\n",
       "95     5\n",
       "108    5\n",
       "93     5\n",
       "      ..\n",
       "83     1\n",
       "138    1\n",
       "141    1\n",
       "30     1\n",
       "191    1\n",
       "Name: count, Length: 92, dtype: int64"
      ]
     },
     "execution_count": 37,
     "metadata": {},
     "output_type": "execute_result"
    }
   ],
   "source": [
    "df[\"duration\"].value_counts()"
   ]
  },
  {
   "cell_type": "code",
   "execution_count": 38,
   "id": "dd32cea8-39aa-4b60-aeb7-08ecc414a86a",
   "metadata": {},
   "outputs": [
    {
     "data": {
      "text/plain": [
       "np.float64(114.5)"
      ]
     },
     "execution_count": 38,
     "metadata": {},
     "output_type": "execute_result"
    }
   ],
   "source": [
    "df[\"duration\"].mean().sum()"
   ]
  },
  {
   "cell_type": "code",
   "execution_count": 39,
   "id": "74ab470d-ab46-4272-a58e-5e2a83a84955",
   "metadata": {},
   "outputs": [],
   "source": [
    "duration = df[\"duration\"].mode().sum()"
   ]
  },
  {
   "cell_type": "code",
   "execution_count": 40,
   "id": "754067fe-bef0-41cc-80da-cc359b896d06",
   "metadata": {},
   "outputs": [
    {
     "name": "stdout",
     "output_type": "stream",
     "text": [
      "94\n"
     ]
    }
   ],
   "source": [
    "print(df[\"duration\"].mode().sum())"
   ]
  },
  {
   "cell_type": "code",
   "execution_count": 41,
   "id": "8b0e9b68-0c26-475d-97b9-77d32bd42b90",
   "metadata": {},
   "outputs": [
    {
     "data": {
      "text/plain": [
       "dtype('int64')"
      ]
     },
     "execution_count": 41,
     "metadata": {},
     "output_type": "execute_result"
    }
   ],
   "source": [
    "duration.dtype"
   ]
  },
  {
   "cell_type": "code",
   "execution_count": 42,
   "id": "2eac4ca6-68a4-4ca6-a36d-c15430d49ffd",
   "metadata": {},
   "outputs": [],
   "source": [
    "short = df[\"duration\"] < 90\n"
   ]
  },
  {
   "cell_type": "markdown",
   "id": "c54b65f8-f4e8-4b9f-a20c-58d5ec2ebecd",
   "metadata": {},
   "source": [
    "Requirment 2:\n",
    "\n",
    "Count the short action movies(that is less than 90 min)\n",
    "\n",
    "\n",
    "\n",
    "\n"
   ]
  },
  {
   "cell_type": "markdown",
   "id": "cd7108d9-930a-48e0-9a77-f6b5a7d25924",
   "metadata": {},
   "source": [
    "checking out different genres of movies"
   ]
  },
  {
   "cell_type": "code",
   "execution_count": 43,
   "id": "8048b3ed-9c19-40cf-a96e-9221470611d8",
   "metadata": {},
   "outputs": [],
   "source": [
    "genres = df[\"genre\"].value_counts()"
   ]
  },
  {
   "cell_type": "code",
   "execution_count": 44,
   "id": "5b7d6f85-7257-472d-a8de-ef209f7c5da9",
   "metadata": {},
   "outputs": [
    {
     "data": {
      "text/plain": [
       "Text(0.5, 1.0, 'Geners of movies released in 90s')"
      ]
     },
     "execution_count": 44,
     "metadata": {},
     "output_type": "execute_result"
    },
    {
     "data": {
      "image/png": "[encoded data removed]",
      "text/plain": [
       "<Figure size 1600x800 with 1 Axes>"
      ]
     },
     "metadata": {},
     "output_type": "display_data"
    }
   ],
   "source": [
    "df[\"genre\"].value_counts().plot(kind = \"bar\", figsize = (16,8), rot = 0)\n",
    "plt.xlabel(\" Movie Genre\")\n",
    "plt.ylabel(\"Number of movies\")\n",
    "plt.title(\"Geners of movies released in 90s\")"
   ]
  },
  {
   "cell_type": "markdown",
   "id": "7479316f-f74f-465a-ac6a-c8c08fe85dc9",
   "metadata": {},
   "source": [
    "# Subsetting the short action movies with duration less than 90 min\n",
    "\n",
    " "
   ]
  },
  {
   "cell_type": "code",
   "execution_count": 45,
   "id": "e08bffa2-3fd2-4430-a196-8869faecbe4b",
   "metadata": {},
   "outputs": [],
   "source": [
    "Action_movies = df[\"genre\"] == \"Action\"\n",
    "\n",
    "short_movies = df[\"duration\"] < 90\n",
    "\n",
    "\n",
    "\n",
    "\n",
    "short_action_movies = (Action_movies) & (short_movies)\n",
    "\n"
   ]
  },
  {
   "cell_type": "code",
   "execution_count": 46,
   "id": "15abd3a5-d7c1-46ad-8546-1a37083e3db4",
   "metadata": {},
   "outputs": [
    {
     "data": {
      "text/plain": [
       "6       False\n",
       "118     False\n",
       "145     False\n",
       "167     False\n",
       "194     False\n",
       "        ...  \n",
       "4672    False\n",
       "4689    False\n",
       "4718    False\n",
       "4746    False\n",
       "4756    False\n",
       "Length: 184, dtype: bool"
      ]
     },
     "execution_count": 46,
     "metadata": {},
     "output_type": "execute_result"
    }
   ],
   "source": [
    "short_action_movies\n"
   ]
  },
  {
   "cell_type": "code",
   "execution_count": 60,
   "id": "64b529a1-484a-40b9-9156-24b5ba65a174",
   "metadata": {},
   "outputs": [],
   "source": [
    "# Obtainning the total count of movies with short duration (less than 90 min)\n",
    "short_movie_count = short_action_movies.sum()"
   ]
  },
  {
   "cell_type": "code",
   "execution_count": 63,
   "id": "0643200b-cb69-47a3-abcf-70f1b6d62913",
   "metadata": {},
   "outputs": [
    {
     "name": "stdout",
     "output_type": "stream",
     "text": [
      "7\n"
     ]
    }
   ],
   "source": [
    "print(short_movie_count)"
   ]
  },
  {
   "cell_type": "markdown",
   "id": "f5f3f9a0-7583-49e9-97e6-5b6c25771817",
   "metadata": {},
   "source": [
    "  There are only 7 short action movies in 90s "
   ]
  },
  {
   "cell_type": "code",
   "execution_count": null,
   "id": "ab7fd8b1-ee3b-4a0e-919b-1af2601b6975",
   "metadata": {},
   "outputs": [],
   "source": []
  },
  {
   "cell_type": "code",
   "execution_count": null,
   "id": "99de44c5-29f8-4cc0-a40b-c50fb03f0d6b",
   "metadata": {},
   "outputs": [],
   "source": []
  },
  {
   "cell_type": "code",
   "execution_count": null,
   "id": "c96bcf99-bded-4646-947b-acfa2307ca2d",
   "metadata": {},
   "outputs": [],
   "source": []
  }
 ],
 "metadata": {
  "kernelspec": {
   "display_name": "Python 3 (ipykernel)",
   "language": "python",
   "name": "python3"
  },
  "language_info": {
   "codemirror_mode": {
    "name": "ipython",
    "version": 3
   },
   "file_extension": ".py",
   "mimetype": "text/x-python",
   "name": "python",
   "nbconvert_exporter": "python",
   "pygments_lexer": "ipython3",
   "version": "3.13.1"
  }
 },
 "nbformat": 4,
 "nbformat_minor": 5
}
